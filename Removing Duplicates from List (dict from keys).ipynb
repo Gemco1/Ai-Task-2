{
 "cells": [
  {
   "cell_type": "code",
   "execution_count": 16,
   "id": "439938d0",
   "metadata": {
    "ExecuteTime": {
     "end_time": "2021-10-03T07:28:14.088582Z",
     "start_time": "2021-10-03T07:28:14.080125Z"
    }
   },
   "outputs": [
    {
     "name": "stdout",
     "output_type": "stream",
     "text": [
      "Original list: ['a', 'b', 6, 'Gemco', 34, 6, 'g', 'b']\n",
      "List after remvoing duplicates: ['a', 'b', 6, 'Gemco', 34, 'g']\n"
     ]
    }
   ],
   "source": [
    "mylist =[\"a\",\"b\",6,\"Gemco\",34,6,\"g\",\"b\"]\n",
    "print(f\"Original list: {mylist}\" )\n",
    "mylist = list(dict.fromkeys(mylist))\n",
    "print(f\"List after remvoing duplicates: {list1}\")"
   ]
  },
  {
   "cell_type": "markdown",
   "id": "6ce830a3",
   "metadata": {},
   "source": [
    "### we converted dict.fromkeys(mylist) to list because it returns value = None by default"
   ]
  },
  {
   "cell_type": "code",
   "execution_count": 17,
   "id": "09e5a535",
   "metadata": {
    "ExecuteTime": {
     "end_time": "2021-10-03T07:28:16.666598Z",
     "start_time": "2021-10-03T07:28:16.659616Z"
    }
   },
   "outputs": [
    {
     "name": "stdout",
     "output_type": "stream",
     "text": [
      "Original list: ['a', 'b', 6, 'Gemco', 34, 6, 'g', 'b']\n",
      "List after remvoing duplicates: ['a', 'b', 6, 'Gemco', 34, 'g']\n"
     ]
    }
   ],
   "source": [
    "mylist =[\"a\",\"b\",6,\"Gemco\",34,6,\"g\",\"b\"]\n",
    "print(f\"Original list: {mylist}\" )\n",
    "mylist = dict.fromkeys(mylist)\n",
    "print(f\"List after remvoing duplicates: {list1}\")"
   ]
  }
 ],
 "metadata": {
  "kernelspec": {
   "display_name": "Python 3",
   "language": "python",
   "name": "python3"
  },
  "language_info": {
   "codemirror_mode": {
    "name": "ipython",
    "version": 3
   },
   "file_extension": ".py",
   "mimetype": "text/x-python",
   "name": "python",
   "nbconvert_exporter": "python",
   "pygments_lexer": "ipython3",
   "version": "3.8.8"
  },
  "varInspector": {
   "cols": {
    "lenName": 16,
    "lenType": 16,
    "lenVar": 40
   },
   "kernels_config": {
    "python": {
     "delete_cmd_postfix": "",
     "delete_cmd_prefix": "del ",
     "library": "var_list.py",
     "varRefreshCmd": "print(var_dic_list())"
    },
    "r": {
     "delete_cmd_postfix": ") ",
     "delete_cmd_prefix": "rm(",
     "library": "var_list.r",
     "varRefreshCmd": "cat(var_dic_list()) "
    }
   },
   "types_to_exclude": [
    "module",
    "function",
    "builtin_function_or_method",
    "instance",
    "_Feature"
   ],
   "window_display": false
  }
 },
 "nbformat": 4,
 "nbformat_minor": 5
}
