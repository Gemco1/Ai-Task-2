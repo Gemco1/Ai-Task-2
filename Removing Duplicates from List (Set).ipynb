{
 "cells": [
  {
   "cell_type": "code",
   "execution_count": 2,
   "id": "8ff88072",
   "metadata": {
    "ExecuteTime": {
     "end_time": "2021-10-03T06:43:52.494614Z",
     "start_time": "2021-10-03T06:43:52.486605Z"
    }
   },
   "outputs": [
    {
     "name": "stdout",
     "output_type": "stream",
     "text": [
      "Original List ['Ahmed', 24, 58, 12, 'Galal', 'Omar', 24, 'Omar']\n",
      "List after removing duplicates ['Galal', 12, 'Omar', 'Ahmed', 24, 58]\n"
     ]
    }
   ],
   "source": [
    "myList = [\"Ahmed\",24,58,12,\"Galal\",\"Omar\",24,\"Omar\"]\n",
    "print(f\"Original List {myList}\")\n",
    "myList = list(set(myList))\n",
    "print(f\"List after removing duplicates {myList}\")"
   ]
  },
  {
   "cell_type": "code",
   "execution_count": null,
   "id": "50722168",
   "metadata": {},
   "outputs": [],
   "source": []
  }
 ],
 "metadata": {
  "kernelspec": {
   "display_name": "Python 3",
   "language": "python",
   "name": "python3"
  },
  "language_info": {
   "codemirror_mode": {
    "name": "ipython",
    "version": 3
   },
   "file_extension": ".py",
   "mimetype": "text/x-python",
   "name": "python",
   "nbconvert_exporter": "python",
   "pygments_lexer": "ipython3",
   "version": "3.8.8"
  },
  "varInspector": {
   "cols": {
    "lenName": 16,
    "lenType": 16,
    "lenVar": 40
   },
   "kernels_config": {
    "python": {
     "delete_cmd_postfix": "",
     "delete_cmd_prefix": "del ",
     "library": "var_list.py",
     "varRefreshCmd": "print(var_dic_list())"
    },
    "r": {
     "delete_cmd_postfix": ") ",
     "delete_cmd_prefix": "rm(",
     "library": "var_list.r",
     "varRefreshCmd": "cat(var_dic_list()) "
    }
   },
   "types_to_exclude": [
    "module",
    "function",
    "builtin_function_or_method",
    "instance",
    "_Feature"
   ],
   "window_display": false
  }
 },
 "nbformat": 4,
 "nbformat_minor": 5
}
